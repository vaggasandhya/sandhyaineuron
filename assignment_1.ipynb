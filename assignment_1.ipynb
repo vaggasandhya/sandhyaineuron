{
 "cells": [
  {
   "attachments": {},
   "cell_type": "markdown",
   "metadata": {},
   "source": [
    "ASSIGNMENT_01"
   ]
  },
  {
   "cell_type": "code",
   "execution_count": null,
   "metadata": {},
   "outputs": [],
   "source": [
    "# 1. In the below elements which of them are values or an expression? eg:- values can be\n",
    "# integer or string and expressions will be mathematical operators.\n",
    "values = 'hello', -87.8, 6\n",
    "mathmatical_operator = * , - , /, + \n",
    "\n",
    "#2. What is the difference between string and variable?\n",
    "String is a type of the information you could store in  a variable \n",
    "variable is a store of the information\n",
    "\n",
    "#3.Describe three different data types.\n",
    "string - anything betweem the double codes becomes string.  eg:\"name\", \"123\"\n",
    "Lists  -A collection of data[mutable], [0,1,2,3,4,5]\n",
    "Tuples - A collection of data(immutable), (1994,2002,2023)\n",
    "Dictionaries - dictinaries are used to store data values in key value pairs, mydata = {\"fname\":\"john\",\"lname\":\"smith\", \"age\":30}\n",
    "\n",
    "#4. What is an expression made up of? What do all expressions do?\n",
    "An expression is made  of operators and operands. all expression interpreted to produce some other value.\n",
    "\n",
    "\n",
    "#5. This assignment statements, like spam = 10. What is the difference between an expression and a statement?\n",
    "An Expression is a sequence or combination of values, variables, operators and function calls that always produces or returns a result value. like spam = 10\n",
    "Any Instruction that a python interpreter can execute (carry out) is called a Statement. like if, else and elif statement or import  etc.exit\n",
    "\n",
    "#6.After running the following code, what does the variable bacon contain?\n",
    "bacon = 22\n",
    "bacon + 1\n",
    "answer = 22\n",
    "\n",
    "#7. What should the values of the following two terms be?\n",
    "spam'+'spamspam'\n",
    "'spam'*3\n",
    "answer must same 'sapmspamspam'\n",
    "\n",
    "#8. Why is eggs a valid variable name while 100 is invalid?\n",
    "varible names cannot start with number and am getting SyntaxError in print statement.\n",
    "\n",
    "#9. What three functions can be used to get the integer, floating-point number, or string version of a value?\n",
    "int() ,float(),  and str()\n",
    "\n",
    "#10.Why does this expression cause an error? How can you fix it?\n",
    "we can only cancatenate str to str since interger cause an KeyError\n",
    "'I have eaten' + ' 99 ' + 'burritos.'\n",
    "'I have eaten' +str(99)+ 'burritos.'\n",
    "\n"
   ]
  },
  {
   "attachments": {},
   "cell_type": "markdown",
   "metadata": {},
   "source": [
    "ASSIGNMENT_02"
   ]
  }
 ],
 "metadata": {
  "kernelspec": {
   "display_name": "Python 3",
   "language": "python",
   "name": "python3"
  },
  "language_info": {
   "codemirror_mode": {
    "name": "ipython",
    "version": 3
   },
   "file_extension": ".py",
   "mimetype": "text/x-python",
   "name": "python",
   "nbconvert_exporter": "python",
   "pygments_lexer": "ipython3",
   "version": "3.10.6 (tags/v3.10.6:9c7b4bd, Aug  1 2022, 21:53:49) [MSC v.1932 64 bit (AMD64)]"
  },
  "orig_nbformat": 4,
  "vscode": {
   "interpreter": {
    "hash": "955a71e16232e6216b69f3d21dc4ce64678a8ff672f91c512ca4280f8425e8ee"
   }
  }
 },
 "nbformat": 4,
 "nbformat_minor": 2
}
